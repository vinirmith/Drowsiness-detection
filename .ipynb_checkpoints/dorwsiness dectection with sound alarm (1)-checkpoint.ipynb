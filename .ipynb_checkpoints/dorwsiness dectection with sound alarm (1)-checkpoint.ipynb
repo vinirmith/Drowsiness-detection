{
 "cells": [
  {
   "cell_type": "code",
   "execution_count": 3,
   "id": "ab2595c8",
   "metadata": {},
   "outputs": [
    {
     "name": "stdout",
     "output_type": "stream",
     "text": [
      "Requirement already satisfied: playsound in c:\\users\\hp\\anaconda3\\lib\\site-packages (1.3.0)\n"
     ]
    }
   ],
   "source": [
    "!pip install playsound\n"
   ]
  },
  {
   "cell_type": "code",
   "execution_count": 4,
   "id": "63e53c8b",
   "metadata": {},
   "outputs": [],
   "source": [
    "import cv2\n",
    "import numpy as np\n",
    "import dlib\n",
    "from imutils import face_utils\n",
    "from playsound import playsound"
   ]
  },
  {
   "cell_type": "code",
   "execution_count": null,
   "id": "c5f08a72",
   "metadata": {},
   "outputs": [],
   "source": [
    "cap = cv2.VideoCapture(0)\n",
    "detector = dlib.get_frontal_face_detector()\n",
    "predictor = dlib.shape_predictor(\"C:\\\\Users\\\\HP\\\\Downloads\\\\drowsiness detection\\\\shape_predictor_68_face_landmarks.dat\")\n",
    "sleep = 0\n",
    "drowsy = 0\n",
    "active = 0\n",
    "status = \"\"\n",
    "color = (0, 0, 0)\n",
    "\n",
    "def compute(ptA, ptB):\n",
    "    dist = np.linalg.norm(ptA - ptB)\n",
    "    return dist\n",
    "\n",
    "def blinked(a, b, c, d, e, f):\n",
    "    up = compute(b, d) + compute(c, e)\n",
    "    down = compute(a, f)\n",
    "    ratio = up / (2.0 * down)\n",
    "\n",
    "    if ratio > 0.25:\n",
    "        return 2\n",
    "    elif ratio > 0.21 and ratio <= 0.25:\n",
    "        return 1\n",
    "    else:\n",
    "        return 0\n",
    "\n",
    "def play_alarm():\n",
    "    playsound(\"C:\\\\Users\\\\HP\\\\Downloads\\\\drowsiness detection\\\\alarm.wav\")\n",
    "\n",
    "while True:\n",
    "    _, frame = cap.read()\n",
    "    gray = cv2.cvtColor(frame, cv2.COLOR_BGR2GRAY)\n",
    "\n",
    "    faces = detector(gray)\n",
    "\n",
    "    for face in faces:\n",
    "        x1 = face.left()\n",
    "        y1 = face.top()\n",
    "        x2 = face.right()\n",
    "        y2 = face.bottom()\n",
    "\n",
    "        face_frame = frame.copy()\n",
    "        cv2.rectangle(face_frame, (x1, y1), (x2, y2), (0, 255, 0), 2)\n",
    "\n",
    "        landmarks = predictor(gray, face)\n",
    "        landmarks = face_utils.shape_to_np(landmarks)\n",
    "\n",
    "        left_blink = blinked(landmarks[36], landmarks[37],\n",
    "                             landmarks[38], landmarks[41], landmarks[40], landmarks[39])\n",
    "        right_blink = blinked(landmarks[42], landmarks[43],\n",
    "                              landmarks[44], landmarks[47], landmarks[46], landmarks[45])\n",
    "\n",
    "        if left_blink == 0 or right_blink == 0:\n",
    "            sleep += 1\n",
    "            drowsy = 0\n",
    "            active = 0\n",
    "            if sleep > 6:\n",
    "                status = \"SLEEPING !!!\"\n",
    "                color = (255, 0, 0)\n",
    "                play_alarm()\n",
    "\n",
    "        elif left_blink == 1 or right_blink == 1:\n",
    "            sleep = 0\n",
    "            active = 0\n",
    "            drowsy += 1\n",
    "            if drowsy > 6:\n",
    "                status = \"Drowsy !\"\n",
    "                color = (0, 0, 255)\n",
    "                play_alarm()\n",
    "\n",
    "        else:\n",
    "            drowsy = 0\n",
    "            sleep = 0\n",
    "            active += 1\n",
    "            if active > 6:\n",
    "                status = \"Active :)\"\n",
    "                color = (0, 255, 0)\n",
    "\n",
    "        cv2.putText(frame, status, (100, 100), cv2.FONT_HERSHEY_SIMPLEX, 1.2, color, 3)\n",
    "\n",
    "        for n in range(0, 68):\n",
    "            (x, y) = landmarks[n]\n",
    "            cv2.circle(face_frame, (x, y), 1, (255, 255, 255), -1)\n",
    "\n",
    "    cv2.imshow(\"Frame\", frame)\n",
    "    cv2.imshow(\"Result of detector\", face_frame)\n",
    "    key = cv2.waitKey(1)\n",
    "    if key == 27:\n",
    "        break\n",
    "\n",
    "cap.release()\n",
    "cv2.destroyAllWindows()\n"
   ]
  },
  {
   "cell_type": "code",
   "execution_count": null,
   "id": "2d763358",
   "metadata": {},
   "outputs": [],
   "source": []
  },
  {
   "cell_type": "code",
   "execution_count": null,
   "id": "8e29d16b",
   "metadata": {},
   "outputs": [],
   "source": []
  }
 ],
 "metadata": {
  "kernelspec": {
   "display_name": "Python 3 (ipykernel)",
   "language": "python",
   "name": "python3"
  },
  "language_info": {
   "codemirror_mode": {
    "name": "ipython",
    "version": 3
   },
   "file_extension": ".py",
   "mimetype": "text/x-python",
   "name": "python",
   "nbconvert_exporter": "python",
   "pygments_lexer": "ipython3",
   "version": "3.9.12"
  }
 },
 "nbformat": 4,
 "nbformat_minor": 5
}
